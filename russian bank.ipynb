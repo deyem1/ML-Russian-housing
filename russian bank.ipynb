{
 "cells": [
  {
   "cell_type": "code",
   "execution_count": 1,
   "id": "312d0566-77f3-44ed-86f0-04b75d32c238",
   "metadata": {},
   "outputs": [],
   "source": [
    "import pandas as pd\n",
    "import numpy as np\n",
    "import matplotlib.pyplot as plt\n",
    "import seaborn as sns\n",
    "\n",
    "\n",
    "from sklearn.metrics import classification_report\n",
    "from sklearn.model_selection import train_test_split\n",
    "from sklearn.impute import SimpleImputer\n",
    "from sklearn.compose import ColumnTransformer\n",
    "# from sklearn.l"
   ]
  },
  {
   "cell_type": "code",
   "execution_count": null,
   "id": "3ee231cd-9b16-4a3e-9060-ab419cadf96d",
   "metadata": {},
   "outputs": [],
   "source": []
  },
  {
   "cell_type": "code",
   "execution_count": 2,
   "id": "8d0b38b6-258e-46cf-a203-d2b6b82e1217",
   "metadata": {},
   "outputs": [],
   "source": [
    "bnk = pd.read_csv(\"sberbank-russian-housing-market-privateleaderboard - Copy.csv\")"
   ]
  },
  {
   "cell_type": "code",
   "execution_count": 3,
   "id": "e5c2e0bb-82fb-4d8f-8356-bd7e8742fc46",
   "metadata": {},
   "outputs": [
    {
     "data": {
      "text/html": [
       "<div>\n",
       "<style scoped>\n",
       "    .dataframe tbody tr th:only-of-type {\n",
       "        vertical-align: middle;\n",
       "    }\n",
       "\n",
       "    .dataframe tbody tr th {\n",
       "        vertical-align: top;\n",
       "    }\n",
       "\n",
       "    .dataframe thead th {\n",
       "        text-align: right;\n",
       "    }\n",
       "</style>\n",
       "<table border=\"1\" class=\"dataframe\">\n",
       "  <thead>\n",
       "    <tr style=\"text-align: right;\">\n",
       "      <th></th>\n",
       "      <th>TeamId</th>\n",
       "      <th>TeamName</th>\n",
       "      <th>SubmissionDate</th>\n",
       "      <th>Score</th>\n",
       "    </tr>\n",
       "  </thead>\n",
       "  <tbody>\n",
       "    <tr>\n",
       "      <th>0</th>\n",
       "      <td>640447</td>\n",
       "      <td>alijs &amp; Evgeny</td>\n",
       "      <td>2017-06-29 17:50:18</td>\n",
       "      <td>0.30087</td>\n",
       "    </tr>\n",
       "    <tr>\n",
       "      <th>1</th>\n",
       "      <td>689420</td>\n",
       "      <td>data_mining2</td>\n",
       "      <td>2017-06-29 22:54:10</td>\n",
       "      <td>0.30925</td>\n",
       "    </tr>\n",
       "    <tr>\n",
       "      <th>2</th>\n",
       "      <td>647805</td>\n",
       "      <td>Computer says no</td>\n",
       "      <td>2017-06-29 22:18:48</td>\n",
       "      <td>0.31032</td>\n",
       "    </tr>\n",
       "    <tr>\n",
       "      <th>3</th>\n",
       "      <td>651738</td>\n",
       "      <td>Sher Dil</td>\n",
       "      <td>2017-06-29 06:54:20</td>\n",
       "      <td>0.31073</td>\n",
       "    </tr>\n",
       "    <tr>\n",
       "      <th>4</th>\n",
       "      <td>685084</td>\n",
       "      <td>Patrick_</td>\n",
       "      <td>2017-06-29 09:38:29</td>\n",
       "      <td>0.31104</td>\n",
       "    </tr>\n",
       "  </tbody>\n",
       "</table>\n",
       "</div>"
      ],
      "text/plain": [
       "   TeamId          TeamName       SubmissionDate    Score\n",
       "0  640447    alijs & Evgeny  2017-06-29 17:50:18  0.30087\n",
       "1  689420      data_mining2  2017-06-29 22:54:10  0.30925\n",
       "2  647805  Computer says no  2017-06-29 22:18:48  0.31032\n",
       "3  651738          Sher Dil  2017-06-29 06:54:20  0.31073\n",
       "4  685084          Patrick_  2017-06-29 09:38:29  0.31104"
      ]
     },
     "execution_count": 3,
     "metadata": {},
     "output_type": "execute_result"
    }
   ],
   "source": [
    "bnk.head()"
   ]
  },
  {
   "cell_type": "code",
   "execution_count": null,
   "id": "80ca24f8-3604-45c8-aca2-451f3bfe4799",
   "metadata": {},
   "outputs": [],
   "source": []
  }
 ],
 "metadata": {
  "kernelspec": {
   "display_name": "Python 3",
   "language": "python",
   "name": "python3"
  },
  "language_info": {
   "codemirror_mode": {
    "name": "ipython",
    "version": 3
   },
   "file_extension": ".py",
   "mimetype": "text/x-python",
   "name": "python",
   "nbconvert_exporter": "python",
   "pygments_lexer": "ipython3",
   "version": "3.8.8"
  }
 },
 "nbformat": 4,
 "nbformat_minor": 5
}
